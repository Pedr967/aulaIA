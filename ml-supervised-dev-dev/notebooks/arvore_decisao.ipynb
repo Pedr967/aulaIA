{
 "cells": [
  {
   "cell_type": "code",
   "execution_count": 1,
   "id": "fc8d08a3",
   "metadata": {},
   "outputs": [],
   "source": [
    "import sys\n",
    "sys.path.append('/workspaces/ml-supervised-dev')\n",
    "\n",
    "import pandas as pd\n",
    "import pickle\n",
    "from sklearn.model_selection import train_test_split\n",
    "from sklearn.metrics import confusion_matrix, accuracy_score, precision_score, recall_score, ConfusionMatrixDisplay\n",
    "from sklearn.preprocessing import LabelEncoder\n",
    "import matplotlib.pyplot as plt\n",
    "from sklearn import tree\n",
    "from src.config.properties import DATA_FOLDER"
   ]
  },
  {
   "cell_type": "code",
   "execution_count": 2,
   "id": "9c6b008c",
   "metadata": {},
   "outputs": [],
   "source": [
    "def carrega_dados(file_path, separador=',', drop_cols=None):\n",
    "    data = pd.read_csv(f\"../{DATA_FOLDER}/{file_path}\", sep=separador)\n",
    "    data = data.sample(frac=1)\n",
    "    return data if not drop_cols else data.drop(drop_cols, axis=1)\n",
    "\n",
    "def encoding_cols(col):\n",
    "    label_encoder = LabelEncoder()\n",
    "    coluna_transformada = label_encoder.fit_transform(col)\n",
    "    return coluna_transformada\n",
    "\n",
    "def save_model(model, filename):\n",
    "    with open(filename, 'wb') as file:\n",
    "        pickle.dump(model, file)\n",
    "    print(\"Modelo salvo\")\n",
    "\n",
    "def load_mode(filename):\n",
    "    with open(filename, 'rb') as file:\n",
    "        model = pickle.load(file)\n",
    "    return model\n",
    "\n",
    "def get_x_y(y_label, x_cols=None):\n",
    "    X = data.drop(y_label, axis=1)\n",
    "    X = X if not x_cols else X[x_cols]\n",
    "    y = data[y_label]\n",
    "\n",
    "    return X, y"
   ]
  },
  {
   "cell_type": "markdown",
   "id": "16ae61ec",
   "metadata": {},
   "source": [
    "#### Alguns exemplos de transformação"
   ]
  },
  {
   "cell_type": "code",
   "execution_count": null,
   "id": "eb88f652",
   "metadata": {},
   "outputs": [],
   "source": [
    "### Filtrando o dataset\n",
    "data_versicolor = data[data['Species']=='Iris-versicolor']\n",
    "data_setosa = data[data['Species']=='Iris-setosa']\n",
    "data_virginica = data[data['Species']=='Iris-virginica']"
   ]
  },
  {
   "cell_type": "code",
   "execution_count": null,
   "id": "c81d35bd",
   "metadata": {},
   "outputs": [],
   "source": [
    "### Transformando uma coluna\n",
    "data['EVersicolor'] = data['Species'].apply(lambda x: 0 if x==\"Iris-versicolor\" else 1)"
   ]
  },
  {
   "cell_type": "markdown",
   "id": "77047504",
   "metadata": {},
   "source": [
    "### Load"
   ]
  },
  {
   "cell_type": "code",
   "execution_count": 3,
   "id": "b44bb81e",
   "metadata": {},
   "outputs": [],
   "source": [
    "data = carrega_dados(\"Iris.csv\", drop_cols=['Id', 'PetalLengthCm'])\n",
    "X, y = get_x_y('Species')"
   ]
  },
  {
   "cell_type": "code",
   "execution_count": 4,
   "id": "2d2a2d64",
   "metadata": {},
   "outputs": [
    {
     "data": {
      "text/html": [
       "<div>\n",
       "<style scoped>\n",
       "    .dataframe tbody tr th:only-of-type {\n",
       "        vertical-align: middle;\n",
       "    }\n",
       "\n",
       "    .dataframe tbody tr th {\n",
       "        vertical-align: top;\n",
       "    }\n",
       "\n",
       "    .dataframe thead th {\n",
       "        text-align: right;\n",
       "    }\n",
       "</style>\n",
       "<table border=\"1\" class=\"dataframe\">\n",
       "  <thead>\n",
       "    <tr style=\"text-align: right;\">\n",
       "      <th></th>\n",
       "      <th>SepalLengthCm</th>\n",
       "      <th>SepalWidthCm</th>\n",
       "      <th>PetalWidthCm</th>\n",
       "      <th>Species</th>\n",
       "    </tr>\n",
       "  </thead>\n",
       "  <tbody>\n",
       "    <tr>\n",
       "      <th>63</th>\n",
       "      <td>6.1</td>\n",
       "      <td>2.9</td>\n",
       "      <td>1.4</td>\n",
       "      <td>Iris-versicolor</td>\n",
       "    </tr>\n",
       "    <tr>\n",
       "      <th>132</th>\n",
       "      <td>6.4</td>\n",
       "      <td>2.8</td>\n",
       "      <td>2.2</td>\n",
       "      <td>Iris-virginica</td>\n",
       "    </tr>\n",
       "    <tr>\n",
       "      <th>8</th>\n",
       "      <td>4.4</td>\n",
       "      <td>2.9</td>\n",
       "      <td>0.2</td>\n",
       "      <td>Iris-setosa</td>\n",
       "    </tr>\n",
       "    <tr>\n",
       "      <th>81</th>\n",
       "      <td>5.5</td>\n",
       "      <td>2.4</td>\n",
       "      <td>1.0</td>\n",
       "      <td>Iris-versicolor</td>\n",
       "    </tr>\n",
       "    <tr>\n",
       "      <th>37</th>\n",
       "      <td>4.9</td>\n",
       "      <td>3.1</td>\n",
       "      <td>0.1</td>\n",
       "      <td>Iris-setosa</td>\n",
       "    </tr>\n",
       "    <tr>\n",
       "      <th>...</th>\n",
       "      <td>...</td>\n",
       "      <td>...</td>\n",
       "      <td>...</td>\n",
       "      <td>...</td>\n",
       "    </tr>\n",
       "    <tr>\n",
       "      <th>21</th>\n",
       "      <td>5.1</td>\n",
       "      <td>3.7</td>\n",
       "      <td>0.4</td>\n",
       "      <td>Iris-setosa</td>\n",
       "    </tr>\n",
       "    <tr>\n",
       "      <th>144</th>\n",
       "      <td>6.7</td>\n",
       "      <td>3.3</td>\n",
       "      <td>2.5</td>\n",
       "      <td>Iris-virginica</td>\n",
       "    </tr>\n",
       "    <tr>\n",
       "      <th>101</th>\n",
       "      <td>5.8</td>\n",
       "      <td>2.7</td>\n",
       "      <td>1.9</td>\n",
       "      <td>Iris-virginica</td>\n",
       "    </tr>\n",
       "    <tr>\n",
       "      <th>91</th>\n",
       "      <td>6.1</td>\n",
       "      <td>3.0</td>\n",
       "      <td>1.4</td>\n",
       "      <td>Iris-versicolor</td>\n",
       "    </tr>\n",
       "    <tr>\n",
       "      <th>41</th>\n",
       "      <td>4.5</td>\n",
       "      <td>2.3</td>\n",
       "      <td>0.3</td>\n",
       "      <td>Iris-setosa</td>\n",
       "    </tr>\n",
       "  </tbody>\n",
       "</table>\n",
       "<p>150 rows × 4 columns</p>\n",
       "</div>"
      ],
      "text/plain": [
       "     SepalLengthCm  SepalWidthCm  PetalWidthCm          Species\n",
       "63             6.1           2.9           1.4  Iris-versicolor\n",
       "132            6.4           2.8           2.2   Iris-virginica\n",
       "8              4.4           2.9           0.2      Iris-setosa\n",
       "81             5.5           2.4           1.0  Iris-versicolor\n",
       "37             4.9           3.1           0.1      Iris-setosa\n",
       "..             ...           ...           ...              ...\n",
       "21             5.1           3.7           0.4      Iris-setosa\n",
       "144            6.7           3.3           2.5   Iris-virginica\n",
       "101            5.8           2.7           1.9   Iris-virginica\n",
       "91             6.1           3.0           1.4  Iris-versicolor\n",
       "41             4.5           2.3           0.3      Iris-setosa\n",
       "\n",
       "[150 rows x 4 columns]"
      ]
     },
     "execution_count": 4,
     "metadata": {},
     "output_type": "execute_result"
    }
   ],
   "source": [
    "data"
   ]
  },
  {
   "cell_type": "markdown",
   "id": "c9185548",
   "metadata": {},
   "source": [
    "### Amostragem"
   ]
  },
  {
   "cell_type": "code",
   "execution_count": 5,
   "id": "d35134b6",
   "metadata": {},
   "outputs": [],
   "source": [
    "X_train, X_val, y_train, y_val = train_test_split(X, y, test_size=0.2)"
   ]
  },
  {
   "cell_type": "markdown",
   "id": "a9712187",
   "metadata": {},
   "source": [
    "### Transformação/Pré-processamento"
   ]
  },
  {
   "cell_type": "code",
   "execution_count": 6,
   "id": "8b033807",
   "metadata": {},
   "outputs": [],
   "source": [
    "y_train = encoding_cols(y_train)\n",
    "y_val = encoding_cols(y_val)"
   ]
  },
  {
   "cell_type": "markdown",
   "id": "e14dc794",
   "metadata": {},
   "source": [
    "### Treinamento"
   ]
  },
  {
   "cell_type": "code",
   "execution_count": 7,
   "id": "113c9f83",
   "metadata": {},
   "outputs": [],
   "source": [
    "arvore = tree.DecisionTreeClassifier()\n",
    "model = arvore.fit(X_train, y_train)"
   ]
  },
  {
   "cell_type": "markdown",
   "id": "f5250abb",
   "metadata": {},
   "source": [
    "### Validação"
   ]
  },
  {
   "cell_type": "code",
   "execution_count": 8,
   "id": "3f484497",
   "metadata": {},
   "outputs": [
    {
     "name": "stdout",
     "output_type": "stream",
     "text": [
      "[[12  0  0]\n",
      " [ 0  8  0]\n",
      " [ 0  2  8]]\n",
      "Acurácia: 0.9333333333333333\n"
     ]
    }
   ],
   "source": [
    "predicoes = model.predict(X_val)\n",
    "cmatrix = confusion_matrix(y_val, predicoes) # classes reais, classes preditas pelo modelo\n",
    "acuracia = accuracy_score(y_val, predicoes)\n",
    "#precisao = precision_score(y_val, predicoes)\n",
    "#recall = recall_score(y_val, predicoes)\n",
    "print(cmatrix)\n",
    "print(f\"Acurácia: {acuracia}\")\n",
    "#print(f\"Precisão: {precisao}\")\n",
    "#print(f\"Recall: {recall}\")"
   ]
  },
  {
   "cell_type": "markdown",
   "id": "cc33855a",
   "metadata": {},
   "source": [
    "### Visualização da árvore"
   ]
  },
  {
   "cell_type": "code",
   "execution_count": 9,
   "id": "b5fb9908",
   "metadata": {},
   "outputs": [
    {
     "data": {
      "text/plain": [
       "[Text(0.5416666666666666, 0.9375, 'PetalWidthCm <= 0.8\\nsamples = 120\\nvalue = [38, 42, 40]'),\n",
       " Text(0.4583333333333333, 0.8125, '38\\n[38, 0, 0]'),\n",
       " Text(0.5, 0.875, 'True  '),\n",
       " Text(0.625, 0.8125, 'PetalWidthCm <= 1.75\\n82\\n[0, 42, 40]'),\n",
       " Text(0.5833333333333333, 0.875, '  False'),\n",
       " Text(0.4166666666666667, 0.6875, 'SepalLengthCm <= 7.1\\n44\\n[0, 41, 3]'),\n",
       " Text(0.3333333333333333, 0.5625, 'SepalLengthCm <= 4.95\\n43\\n[0, 41, 2]'),\n",
       " Text(0.16666666666666666, 0.4375, 'PetalWidthCm <= 1.35\\n2\\n[0, 1, 1]'),\n",
       " Text(0.08333333333333333, 0.3125, '1\\n[0, 1, 0]'),\n",
       " Text(0.25, 0.3125, '1\\n[0, 0, 1]'),\n",
       " Text(0.5, 0.4375, 'SepalWidthCm <= 2.25\\n41\\n[0, 40, 1]'),\n",
       " Text(0.4166666666666667, 0.3125, 'PetalWidthCm <= 1.25\\n4\\n[0, 3, 1]'),\n",
       " Text(0.3333333333333333, 0.1875, '2\\n[0, 2, 0]'),\n",
       " Text(0.5, 0.1875, 'SepalLengthCm <= 6.1\\n2\\n[0, 1, 1]'),\n",
       " Text(0.4166666666666667, 0.0625, '1\\n[0, 0, 1]'),\n",
       " Text(0.5833333333333334, 0.0625, '1\\n[0, 1, 0]'),\n",
       " Text(0.5833333333333334, 0.3125, '37\\n[0, 37, 0]'),\n",
       " Text(0.5, 0.5625, '1\\n[0, 0, 1]'),\n",
       " Text(0.8333333333333334, 0.6875, 'SepalLengthCm <= 5.95\\n38\\n[0, 1, 37]'),\n",
       " Text(0.75, 0.5625, 'SepalWidthCm <= 3.1\\n7\\n[0, 1, 6]'),\n",
       " Text(0.6666666666666666, 0.4375, '6\\n[0, 0, 6]'),\n",
       " Text(0.8333333333333334, 0.4375, '1\\n[0, 1, 0]'),\n",
       " Text(0.9166666666666666, 0.5625, '31\\n[0, 0, 31]')]"
      ]
     },
     "execution_count": 9,
     "metadata": {},
     "output_type": "execute_result"
    },
    {
     "data": {
      "image/png": "[encoded data removed]",
      "text/plain": [
       "<Figure size 640x480 with 1 Axes>"
      ]
     },
     "metadata": {},
     "output_type": "display_data"
    }
   ],
   "source": [
    "tree.plot_tree(arvore, feature_names=X_val.columns, label=\"root\", impurity=False, rounded=True, filled=True)"
   ]
  },
  {
   "cell_type": "markdown",
   "id": "26e771ec",
   "metadata": {},
   "source": [
    "### Salva o modelo"
   ]
  },
  {
   "cell_type": "code",
   "execution_count": 10,
   "id": "a1ecfd37",
   "metadata": {},
   "outputs": [
    {
     "name": "stdout",
     "output_type": "stream",
     "text": [
      "Modelo salvo\n"
     ]
    }
   ],
   "source": [
    "save_model(arvore, \"arvore_decisao.pkl\")"
   ]
  }
 ],
 "metadata": {
  "kernelspec": {
   "display_name": "venv",
   "language": "python",
   "name": "python3"
  },
  "language_info": {
   "codemirror_mode": {
    "name": "ipython",
    "version": 3
   },
   "file_extension": ".py",
   "mimetype": "text/x-python",
   "name": "python",
   "nbconvert_exporter": "python",
   "pygments_lexer": "ipython3",
   "version": "3.12.1"
  }
 },
 "nbformat": 4,
 "nbformat_minor": 5
}
